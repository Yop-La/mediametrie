{
 "cells": [
  {
   "cell_type": "code",
   "execution_count": 1,
   "metadata": {},
   "outputs": [],
   "source": [
    "import pandas as pd\n",
    "import numpy as np\n",
    "import datetime\n",
    "import matplotlib as mpl \n",
    "import matplotlib.pyplot as plt\n",
    "from urllib.parse import urlparse"
   ]
  },
  {
   "cell_type": "code",
   "execution_count": 2,
   "metadata": {},
   "outputs": [],
   "source": [
    "cookies = pd.read_csv('./train_data.csv',sep=\";\",header=0)"
   ]
  },
  {
   "cell_type": "code",
   "execution_count": 3,
   "metadata": {},
   "outputs": [
    {
     "data": {
      "text/plain": [
       "array(['COOKIE_ID', 'LOCAL_TIME', 'PAGE_NAME', 'H2549'], dtype=object)"
      ]
     },
     "execution_count": 3,
     "metadata": {},
     "output_type": "execute_result"
    }
   ],
   "source": [
    "cookies.columns.values"
   ]
  },
  {
   "cell_type": "code",
   "execution_count": 4,
   "metadata": {},
   "outputs": [
    {
     "data": {
      "text/html": [
       "<div>\n",
       "<style scoped>\n",
       "    .dataframe tbody tr th:only-of-type {\n",
       "        vertical-align: middle;\n",
       "    }\n",
       "\n",
       "    .dataframe tbody tr th {\n",
       "        vertical-align: top;\n",
       "    }\n",
       "\n",
       "    .dataframe thead th {\n",
       "        text-align: right;\n",
       "    }\n",
       "</style>\n",
       "<table border=\"1\" class=\"dataframe\">\n",
       "  <thead>\n",
       "    <tr style=\"text-align: right;\">\n",
       "      <th></th>\n",
       "      <th>COOKIE_ID</th>\n",
       "      <th>LOCAL_TIME</th>\n",
       "      <th>PAGE_NAME</th>\n",
       "      <th>H2549</th>\n",
       "    </tr>\n",
       "  </thead>\n",
       "  <tbody>\n",
       "    <tr>\n",
       "      <th>0</th>\n",
       "      <td>0</td>\n",
       "      <td>2018-02-28 16:24:05.570</td>\n",
       "      <td>http://www.01net.com/actualites/pourquoi-la-no...</td>\n",
       "      <td>1</td>\n",
       "    </tr>\n",
       "    <tr>\n",
       "      <th>1</th>\n",
       "      <td>1</td>\n",
       "      <td>2018-02-17 18:17:16.310</td>\n",
       "      <td>http://www.01net.com/search</td>\n",
       "      <td>0</td>\n",
       "    </tr>\n",
       "    <tr>\n",
       "      <th>2</th>\n",
       "      <td>2</td>\n",
       "      <td>2018-02-09 22:49:13.500</td>\n",
       "      <td>http://www.01net.com/telecharger/windows/Multi...</td>\n",
       "      <td>0</td>\n",
       "    </tr>\n",
       "    <tr>\n",
       "      <th>3</th>\n",
       "      <td>3</td>\n",
       "      <td>2018-02-11 14:15:36.478</td>\n",
       "      <td>http://www.01net.com/telecharger/</td>\n",
       "      <td>0</td>\n",
       "    </tr>\n",
       "    <tr>\n",
       "      <th>4</th>\n",
       "      <td>4</td>\n",
       "      <td>2018-02-26 09:41:26.059</td>\n",
       "      <td>http://www.01net.com/tests/huawei-p8-lite-2017...</td>\n",
       "      <td>0</td>\n",
       "    </tr>\n",
       "  </tbody>\n",
       "</table>\n",
       "</div>"
      ],
      "text/plain": [
       "   COOKIE_ID               LOCAL_TIME  \\\n",
       "0          0  2018-02-28 16:24:05.570   \n",
       "1          1  2018-02-17 18:17:16.310   \n",
       "2          2  2018-02-09 22:49:13.500   \n",
       "3          3  2018-02-11 14:15:36.478   \n",
       "4          4  2018-02-26 09:41:26.059   \n",
       "\n",
       "                                           PAGE_NAME  H2549  \n",
       "0  http://www.01net.com/actualites/pourquoi-la-no...      1  \n",
       "1                        http://www.01net.com/search      0  \n",
       "2  http://www.01net.com/telecharger/windows/Multi...      0  \n",
       "3                  http://www.01net.com/telecharger/      0  \n",
       "4  http://www.01net.com/tests/huawei-p8-lite-2017...      0  "
      ]
     },
     "execution_count": 4,
     "metadata": {},
     "output_type": "execute_result"
    }
   ],
   "source": [
    "cookies.head()"
   ]
  },
  {
   "cell_type": "code",
   "execution_count": 5,
   "metadata": {},
   "outputs": [
    {
     "data": {
      "text/plain": [
       "62118"
      ]
     },
     "execution_count": 5,
     "metadata": {},
     "output_type": "execute_result"
    }
   ],
   "source": [
    "cookies.H2549.sum()"
   ]
  },
  {
   "cell_type": "code",
   "execution_count": 6,
   "metadata": {},
   "outputs": [],
   "source": [
    "cookies.shape\n",
    "cookie = cookies.copy() "
   ]
  },
  {
   "cell_type": "code",
   "execution_count": 15,
   "metadata": {},
   "outputs": [
    {
     "data": {
      "text/plain": [
       "(341411, 4)"
      ]
     },
     "execution_count": 15,
     "metadata": {},
     "output_type": "execute_result"
    }
   ],
   "source": [
    "cookie.shape"
   ]
  },
  {
   "cell_type": "code",
   "execution_count": 7,
   "metadata": {},
   "outputs": [],
   "source": [
    "cookie['id'] = range(cookie.shape[0])"
   ]
  },
  {
   "cell_type": "code",
   "execution_count": 8,
   "metadata": {},
   "outputs": [
    {
     "data": {
      "text/html": [
       "<div>\n",
       "<style scoped>\n",
       "    .dataframe tbody tr th:only-of-type {\n",
       "        vertical-align: middle;\n",
       "    }\n",
       "\n",
       "    .dataframe tbody tr th {\n",
       "        vertical-align: top;\n",
       "    }\n",
       "\n",
       "    .dataframe thead th {\n",
       "        text-align: right;\n",
       "    }\n",
       "</style>\n",
       "<table border=\"1\" class=\"dataframe\">\n",
       "  <thead>\n",
       "    <tr style=\"text-align: right;\">\n",
       "      <th></th>\n",
       "      <th>COOKIE_ID</th>\n",
       "      <th>LOCAL_TIME</th>\n",
       "      <th>PAGE_NAME</th>\n",
       "      <th>H2549</th>\n",
       "      <th>id</th>\n",
       "    </tr>\n",
       "  </thead>\n",
       "  <tbody>\n",
       "    <tr>\n",
       "      <th>0</th>\n",
       "      <td>0</td>\n",
       "      <td>2018-02-28 16:24:05.570</td>\n",
       "      <td>http://www.01net.com/actualites/pourquoi-la-no...</td>\n",
       "      <td>1</td>\n",
       "      <td>0</td>\n",
       "    </tr>\n",
       "    <tr>\n",
       "      <th>1</th>\n",
       "      <td>1</td>\n",
       "      <td>2018-02-17 18:17:16.310</td>\n",
       "      <td>http://www.01net.com/search</td>\n",
       "      <td>0</td>\n",
       "      <td>1</td>\n",
       "    </tr>\n",
       "    <tr>\n",
       "      <th>2</th>\n",
       "      <td>2</td>\n",
       "      <td>2018-02-09 22:49:13.500</td>\n",
       "      <td>http://www.01net.com/telecharger/windows/Multi...</td>\n",
       "      <td>0</td>\n",
       "      <td>2</td>\n",
       "    </tr>\n",
       "    <tr>\n",
       "      <th>3</th>\n",
       "      <td>3</td>\n",
       "      <td>2018-02-11 14:15:36.478</td>\n",
       "      <td>http://www.01net.com/telecharger/</td>\n",
       "      <td>0</td>\n",
       "      <td>3</td>\n",
       "    </tr>\n",
       "    <tr>\n",
       "      <th>4</th>\n",
       "      <td>4</td>\n",
       "      <td>2018-02-26 09:41:26.059</td>\n",
       "      <td>http://www.01net.com/tests/huawei-p8-lite-2017...</td>\n",
       "      <td>0</td>\n",
       "      <td>4</td>\n",
       "    </tr>\n",
       "  </tbody>\n",
       "</table>\n",
       "</div>"
      ],
      "text/plain": [
       "   COOKIE_ID               LOCAL_TIME  \\\n",
       "0          0  2018-02-28 16:24:05.570   \n",
       "1          1  2018-02-17 18:17:16.310   \n",
       "2          2  2018-02-09 22:49:13.500   \n",
       "3          3  2018-02-11 14:15:36.478   \n",
       "4          4  2018-02-26 09:41:26.059   \n",
       "\n",
       "                                           PAGE_NAME  H2549  id  \n",
       "0  http://www.01net.com/actualites/pourquoi-la-no...      1   0  \n",
       "1                        http://www.01net.com/search      0   1  \n",
       "2  http://www.01net.com/telecharger/windows/Multi...      0   2  \n",
       "3                  http://www.01net.com/telecharger/      0   3  \n",
       "4  http://www.01net.com/tests/huawei-p8-lite-2017...      0   4  "
      ]
     },
     "execution_count": 8,
     "metadata": {},
     "output_type": "execute_result"
    }
   ],
   "source": [
    "cookie.head()"
   ]
  },
  {
   "cell_type": "markdown",
   "metadata": {},
   "source": [
    "# 1 Première partie : parsage de l'url"
   ]
  },
  {
   "cell_type": "code",
   "execution_count": 9,
   "metadata": {},
   "outputs": [],
   "source": [
    "def url_parse(id,PAGE_NAME):\n",
    "    ret = list(urlparse(PAGE_NAME))\n",
    "    ret.append(id)\n",
    "    \n",
    "    return(pd.Series(ret))"
   ]
  },
  {
   "cell_type": "code",
   "execution_count": 10,
   "metadata": {},
   "outputs": [],
   "source": [
    "urls_params = cookie.apply(lambda row : url_parse(row['id'],row['PAGE_NAME']), axis = 1)"
   ]
  },
  {
   "cell_type": "code",
   "execution_count": 11,
   "metadata": {},
   "outputs": [
    {
     "data": {
      "text/html": [
       "<div>\n",
       "<style scoped>\n",
       "    .dataframe tbody tr th:only-of-type {\n",
       "        vertical-align: middle;\n",
       "    }\n",
       "\n",
       "    .dataframe tbody tr th {\n",
       "        vertical-align: top;\n",
       "    }\n",
       "\n",
       "    .dataframe thead th {\n",
       "        text-align: right;\n",
       "    }\n",
       "</style>\n",
       "<table border=\"1\" class=\"dataframe\">\n",
       "  <thead>\n",
       "    <tr style=\"text-align: right;\">\n",
       "      <th></th>\n",
       "      <th>0</th>\n",
       "      <th>1</th>\n",
       "      <th>2</th>\n",
       "      <th>3</th>\n",
       "      <th>4</th>\n",
       "      <th>5</th>\n",
       "      <th>6</th>\n",
       "    </tr>\n",
       "  </thead>\n",
       "  <tbody>\n",
       "    <tr>\n",
       "      <th>0</th>\n",
       "      <td>http</td>\n",
       "      <td>www.01net.com</td>\n",
       "      <td>/actualites/pourquoi-la-nouvelle-interface-de-...</td>\n",
       "      <td></td>\n",
       "      <td></td>\n",
       "      <td></td>\n",
       "      <td>0</td>\n",
       "    </tr>\n",
       "    <tr>\n",
       "      <th>1</th>\n",
       "      <td>http</td>\n",
       "      <td>www.01net.com</td>\n",
       "      <td>/search</td>\n",
       "      <td></td>\n",
       "      <td></td>\n",
       "      <td></td>\n",
       "      <td>1</td>\n",
       "    </tr>\n",
       "    <tr>\n",
       "      <th>2</th>\n",
       "      <td>http</td>\n",
       "      <td>www.01net.com</td>\n",
       "      <td>/telecharger/windows/Multimedia/lecteurs_video...</td>\n",
       "      <td></td>\n",
       "      <td></td>\n",
       "      <td></td>\n",
       "      <td>2</td>\n",
       "    </tr>\n",
       "    <tr>\n",
       "      <th>3</th>\n",
       "      <td>http</td>\n",
       "      <td>www.01net.com</td>\n",
       "      <td>/telecharger/</td>\n",
       "      <td></td>\n",
       "      <td></td>\n",
       "      <td></td>\n",
       "      <td>3</td>\n",
       "    </tr>\n",
       "    <tr>\n",
       "      <th>4</th>\n",
       "      <td>http</td>\n",
       "      <td>www.01net.com</td>\n",
       "      <td>/tests/huawei-p8-lite-2017-fiche-technique-365...</td>\n",
       "      <td></td>\n",
       "      <td></td>\n",
       "      <td></td>\n",
       "      <td>4</td>\n",
       "    </tr>\n",
       "  </tbody>\n",
       "</table>\n",
       "</div>"
      ],
      "text/plain": [
       "      0              1                                                  2 3 4  \\\n",
       "0  http  www.01net.com  /actualites/pourquoi-la-nouvelle-interface-de-...       \n",
       "1  http  www.01net.com                                            /search       \n",
       "2  http  www.01net.com  /telecharger/windows/Multimedia/lecteurs_video...       \n",
       "3  http  www.01net.com                                      /telecharger/       \n",
       "4  http  www.01net.com  /tests/huawei-p8-lite-2017-fiche-technique-365...       \n",
       "\n",
       "  5  6  \n",
       "0    0  \n",
       "1    1  \n",
       "2    2  \n",
       "3    3  \n",
       "4    4  "
      ]
     },
     "execution_count": 11,
     "metadata": {},
     "output_type": "execute_result"
    }
   ],
   "source": [
    "urls_params.head()"
   ]
  },
  {
   "cell_type": "code",
   "execution_count": 12,
   "metadata": {},
   "outputs": [],
   "source": [
    "urls_params.columns = ['scheme','netloc','path','params','query','fragment','id']"
   ]
  },
  {
   "cell_type": "code",
   "execution_count": 13,
   "metadata": {},
   "outputs": [
    {
     "data": {
      "text/html": [
       "<div>\n",
       "<style scoped>\n",
       "    .dataframe tbody tr th:only-of-type {\n",
       "        vertical-align: middle;\n",
       "    }\n",
       "\n",
       "    .dataframe tbody tr th {\n",
       "        vertical-align: top;\n",
       "    }\n",
       "\n",
       "    .dataframe thead th {\n",
       "        text-align: right;\n",
       "    }\n",
       "</style>\n",
       "<table border=\"1\" class=\"dataframe\">\n",
       "  <thead>\n",
       "    <tr style=\"text-align: right;\">\n",
       "      <th></th>\n",
       "      <th>scheme</th>\n",
       "      <th>netloc</th>\n",
       "      <th>path</th>\n",
       "      <th>params</th>\n",
       "      <th>query</th>\n",
       "      <th>fragment</th>\n",
       "      <th>id</th>\n",
       "    </tr>\n",
       "  </thead>\n",
       "  <tbody>\n",
       "    <tr>\n",
       "      <th>0</th>\n",
       "      <td>http</td>\n",
       "      <td>www.01net.com</td>\n",
       "      <td>/actualites/pourquoi-la-nouvelle-interface-de-...</td>\n",
       "      <td></td>\n",
       "      <td></td>\n",
       "      <td></td>\n",
       "      <td>0</td>\n",
       "    </tr>\n",
       "    <tr>\n",
       "      <th>1</th>\n",
       "      <td>http</td>\n",
       "      <td>www.01net.com</td>\n",
       "      <td>/search</td>\n",
       "      <td></td>\n",
       "      <td></td>\n",
       "      <td></td>\n",
       "      <td>1</td>\n",
       "    </tr>\n",
       "    <tr>\n",
       "      <th>2</th>\n",
       "      <td>http</td>\n",
       "      <td>www.01net.com</td>\n",
       "      <td>/telecharger/windows/Multimedia/lecteurs_video...</td>\n",
       "      <td></td>\n",
       "      <td></td>\n",
       "      <td></td>\n",
       "      <td>2</td>\n",
       "    </tr>\n",
       "    <tr>\n",
       "      <th>3</th>\n",
       "      <td>http</td>\n",
       "      <td>www.01net.com</td>\n",
       "      <td>/telecharger/</td>\n",
       "      <td></td>\n",
       "      <td></td>\n",
       "      <td></td>\n",
       "      <td>3</td>\n",
       "    </tr>\n",
       "    <tr>\n",
       "      <th>4</th>\n",
       "      <td>http</td>\n",
       "      <td>www.01net.com</td>\n",
       "      <td>/tests/huawei-p8-lite-2017-fiche-technique-365...</td>\n",
       "      <td></td>\n",
       "      <td></td>\n",
       "      <td></td>\n",
       "      <td>4</td>\n",
       "    </tr>\n",
       "  </tbody>\n",
       "</table>\n",
       "</div>"
      ],
      "text/plain": [
       "  scheme         netloc                                               path  \\\n",
       "0   http  www.01net.com  /actualites/pourquoi-la-nouvelle-interface-de-...   \n",
       "1   http  www.01net.com                                            /search   \n",
       "2   http  www.01net.com  /telecharger/windows/Multimedia/lecteurs_video...   \n",
       "3   http  www.01net.com                                      /telecharger/   \n",
       "4   http  www.01net.com  /tests/huawei-p8-lite-2017-fiche-technique-365...   \n",
       "\n",
       "  params query fragment  id  \n",
       "0                         0  \n",
       "1                         1  \n",
       "2                         2  \n",
       "3                         3  \n",
       "4                         4  "
      ]
     },
     "execution_count": 13,
     "metadata": {},
     "output_type": "execute_result"
    }
   ],
   "source": [
    "urls_params.head()"
   ]
  },
  {
   "cell_type": "code",
   "execution_count": 14,
   "metadata": {},
   "outputs": [
    {
     "data": {
      "text/plain": [
       "(341411, 7)"
      ]
     },
     "execution_count": 14,
     "metadata": {},
     "output_type": "execute_result"
    }
   ],
   "source": [
    "urls_params.shape"
   ]
  },
  {
   "cell_type": "code",
   "execution_count": 15,
   "metadata": {},
   "outputs": [],
   "source": [
    "urls_params.to_pickle(\"./urls_params.pkl\")"
   ]
  },
  {
   "cell_type": "code",
   "execution_count": 17,
   "metadata": {},
   "outputs": [],
   "source": [
    "cookie = pd.merge(cookie, urls_params, on='id', how='inner')"
   ]
  },
  {
   "cell_type": "code",
   "execution_count": 19,
   "metadata": {},
   "outputs": [
    {
     "data": {
      "text/html": [
       "<div>\n",
       "<style scoped>\n",
       "    .dataframe tbody tr th:only-of-type {\n",
       "        vertical-align: middle;\n",
       "    }\n",
       "\n",
       "    .dataframe tbody tr th {\n",
       "        vertical-align: top;\n",
       "    }\n",
       "\n",
       "    .dataframe thead th {\n",
       "        text-align: right;\n",
       "    }\n",
       "</style>\n",
       "<table border=\"1\" class=\"dataframe\">\n",
       "  <thead>\n",
       "    <tr style=\"text-align: right;\">\n",
       "      <th></th>\n",
       "      <th>COOKIE_ID</th>\n",
       "      <th>LOCAL_TIME</th>\n",
       "      <th>PAGE_NAME</th>\n",
       "      <th>H2549</th>\n",
       "      <th>id</th>\n",
       "      <th>scheme</th>\n",
       "      <th>netloc</th>\n",
       "      <th>path</th>\n",
       "      <th>params</th>\n",
       "      <th>query</th>\n",
       "      <th>fragment</th>\n",
       "    </tr>\n",
       "  </thead>\n",
       "  <tbody>\n",
       "    <tr>\n",
       "      <th>0</th>\n",
       "      <td>0</td>\n",
       "      <td>2018-02-28 16:24:05.570</td>\n",
       "      <td>http://www.01net.com/actualites/pourquoi-la-no...</td>\n",
       "      <td>1</td>\n",
       "      <td>0</td>\n",
       "      <td>http</td>\n",
       "      <td>www.01net.com</td>\n",
       "      <td>/actualites/pourquoi-la-nouvelle-interface-de-...</td>\n",
       "      <td></td>\n",
       "      <td></td>\n",
       "      <td></td>\n",
       "    </tr>\n",
       "    <tr>\n",
       "      <th>1</th>\n",
       "      <td>1</td>\n",
       "      <td>2018-02-17 18:17:16.310</td>\n",
       "      <td>http://www.01net.com/search</td>\n",
       "      <td>0</td>\n",
       "      <td>1</td>\n",
       "      <td>http</td>\n",
       "      <td>www.01net.com</td>\n",
       "      <td>/search</td>\n",
       "      <td></td>\n",
       "      <td></td>\n",
       "      <td></td>\n",
       "    </tr>\n",
       "    <tr>\n",
       "      <th>2</th>\n",
       "      <td>2</td>\n",
       "      <td>2018-02-09 22:49:13.500</td>\n",
       "      <td>http://www.01net.com/telecharger/windows/Multi...</td>\n",
       "      <td>0</td>\n",
       "      <td>2</td>\n",
       "      <td>http</td>\n",
       "      <td>www.01net.com</td>\n",
       "      <td>/telecharger/windows/Multimedia/lecteurs_video...</td>\n",
       "      <td></td>\n",
       "      <td></td>\n",
       "      <td></td>\n",
       "    </tr>\n",
       "    <tr>\n",
       "      <th>3</th>\n",
       "      <td>3</td>\n",
       "      <td>2018-02-11 14:15:36.478</td>\n",
       "      <td>http://www.01net.com/telecharger/</td>\n",
       "      <td>0</td>\n",
       "      <td>3</td>\n",
       "      <td>http</td>\n",
       "      <td>www.01net.com</td>\n",
       "      <td>/telecharger/</td>\n",
       "      <td></td>\n",
       "      <td></td>\n",
       "      <td></td>\n",
       "    </tr>\n",
       "    <tr>\n",
       "      <th>4</th>\n",
       "      <td>4</td>\n",
       "      <td>2018-02-26 09:41:26.059</td>\n",
       "      <td>http://www.01net.com/tests/huawei-p8-lite-2017...</td>\n",
       "      <td>0</td>\n",
       "      <td>4</td>\n",
       "      <td>http</td>\n",
       "      <td>www.01net.com</td>\n",
       "      <td>/tests/huawei-p8-lite-2017-fiche-technique-365...</td>\n",
       "      <td></td>\n",
       "      <td></td>\n",
       "      <td></td>\n",
       "    </tr>\n",
       "  </tbody>\n",
       "</table>\n",
       "</div>"
      ],
      "text/plain": [
       "   COOKIE_ID               LOCAL_TIME  \\\n",
       "0          0  2018-02-28 16:24:05.570   \n",
       "1          1  2018-02-17 18:17:16.310   \n",
       "2          2  2018-02-09 22:49:13.500   \n",
       "3          3  2018-02-11 14:15:36.478   \n",
       "4          4  2018-02-26 09:41:26.059   \n",
       "\n",
       "                                           PAGE_NAME  H2549  id scheme  \\\n",
       "0  http://www.01net.com/actualites/pourquoi-la-no...      1   0   http   \n",
       "1                        http://www.01net.com/search      0   1   http   \n",
       "2  http://www.01net.com/telecharger/windows/Multi...      0   2   http   \n",
       "3                  http://www.01net.com/telecharger/      0   3   http   \n",
       "4  http://www.01net.com/tests/huawei-p8-lite-2017...      0   4   http   \n",
       "\n",
       "          netloc                                               path params  \\\n",
       "0  www.01net.com  /actualites/pourquoi-la-nouvelle-interface-de-...          \n",
       "1  www.01net.com                                            /search          \n",
       "2  www.01net.com  /telecharger/windows/Multimedia/lecteurs_video...          \n",
       "3  www.01net.com                                      /telecharger/          \n",
       "4  www.01net.com  /tests/huawei-p8-lite-2017-fiche-technique-365...          \n",
       "\n",
       "  query fragment  \n",
       "0                 \n",
       "1                 \n",
       "2                 \n",
       "3                 \n",
       "4                 "
      ]
     },
     "execution_count": 19,
     "metadata": {},
     "output_type": "execute_result"
    }
   ],
   "source": [
    "cookie.head()"
   ]
  },
  {
   "cell_type": "code",
   "execution_count": 21,
   "metadata": {},
   "outputs": [],
   "source": [
    "cookie.to_csv('url_decompose.csv')"
   ]
  },
  {
   "cell_type": "code",
   "execution_count": 20,
   "metadata": {},
   "outputs": [
    {
     "data": {
      "text/plain": [
       "(341411, 11)"
      ]
     },
     "execution_count": 20,
     "metadata": {},
     "output_type": "execute_result"
    }
   ],
   "source": [
    "cookie.shape"
   ]
  },
  {
   "cell_type": "code",
   "execution_count": null,
   "metadata": {},
   "outputs": [],
   "source": []
  }
 ],
 "metadata": {
  "kernelspec": {
   "display_name": "Python [conda env:keras]",
   "language": "python",
   "name": "conda-env-keras-py"
  },
  "language_info": {
   "codemirror_mode": {
    "name": "ipython",
    "version": 3
   },
   "file_extension": ".py",
   "mimetype": "text/x-python",
   "name": "python",
   "nbconvert_exporter": "python",
   "pygments_lexer": "ipython3",
   "version": "3.6.7"
  }
 },
 "nbformat": 4,
 "nbformat_minor": 2
}
