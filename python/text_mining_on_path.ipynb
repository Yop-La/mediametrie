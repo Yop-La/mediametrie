{
 "cells": [
  {
   "cell_type": "code",
   "execution_count": 29,
   "metadata": {},
   "outputs": [],
   "source": [
    "import pandas as pd\n",
    "import numpy as np\n",
    "import datetime\n",
    "import matplotlib as mpl \n",
    "import matplotlib.pyplot as plt\n",
    "from urllib.parse import urlparse\n",
    "import nltk\n",
    "import os\n",
    "from nltk.tokenize import word_tokenize \n",
    "import re"
   ]
  },
  {
   "cell_type": "code",
   "execution_count": null,
   "metadata": {},
   "outputs": [],
   "source": [
    "cookies_ori = pd.read_pickle(\"./cookies.pkl\")"
   ]
  },
  {
   "cell_type": "code",
   "execution_count": 5,
   "metadata": {},
   "outputs": [
    {
     "name": "stderr",
     "output_type": "stream",
     "text": [
      "/home/ensai/anaconda3/lib/python3.7/site-packages/IPython/core/interactiveshell.py:2785: DtypeWarning: Columns (9) have mixed types. Specify dtype option on import or set low_memory=False.\n",
      "  interactivity=interactivity, compiler=compiler, result=result)\n"
     ]
    }
   ],
   "source": [
    "cookies_ori = pd.read_csv('./url_decompose.csv',sep=\",\",header=0)"
   ]
  },
  {
   "cell_type": "code",
   "execution_count": 6,
   "metadata": {},
   "outputs": [],
   "source": [
    "cookies = cookies_ori.copy()"
   ]
  },
  {
   "cell_type": "code",
   "execution_count": 7,
   "metadata": {},
   "outputs": [
    {
     "data": {
      "text/html": [
       "<div>\n",
       "<style scoped>\n",
       "    .dataframe tbody tr th:only-of-type {\n",
       "        vertical-align: middle;\n",
       "    }\n",
       "\n",
       "    .dataframe tbody tr th {\n",
       "        vertical-align: top;\n",
       "    }\n",
       "\n",
       "    .dataframe thead th {\n",
       "        text-align: right;\n",
       "    }\n",
       "</style>\n",
       "<table border=\"1\" class=\"dataframe\">\n",
       "  <thead>\n",
       "    <tr style=\"text-align: right;\">\n",
       "      <th></th>\n",
       "      <th>COOKIE_ID</th>\n",
       "      <th>LOCAL_TIME</th>\n",
       "      <th>PAGE_NAME</th>\n",
       "      <th>H2549</th>\n",
       "      <th>id</th>\n",
       "      <th>scheme</th>\n",
       "      <th>netloc</th>\n",
       "      <th>path</th>\n",
       "      <th>params</th>\n",
       "      <th>query</th>\n",
       "      <th>fragment</th>\n",
       "    </tr>\n",
       "  </thead>\n",
       "  <tbody>\n",
       "    <tr>\n",
       "      <th>0</th>\n",
       "      <td>0</td>\n",
       "      <td>2018-02-28 16:24:05.570</td>\n",
       "      <td>http://www.01net.com/actualites/pourquoi-la-no...</td>\n",
       "      <td>1</td>\n",
       "      <td>0</td>\n",
       "      <td>http</td>\n",
       "      <td>www.01net.com</td>\n",
       "      <td>/actualites/pourquoi-la-nouvelle-interface-de-...</td>\n",
       "      <td>NaN</td>\n",
       "      <td>NaN</td>\n",
       "      <td>NaN</td>\n",
       "    </tr>\n",
       "    <tr>\n",
       "      <th>1</th>\n",
       "      <td>1</td>\n",
       "      <td>2018-02-17 18:17:16.310</td>\n",
       "      <td>http://www.01net.com/search</td>\n",
       "      <td>0</td>\n",
       "      <td>1</td>\n",
       "      <td>http</td>\n",
       "      <td>www.01net.com</td>\n",
       "      <td>/search</td>\n",
       "      <td>NaN</td>\n",
       "      <td>NaN</td>\n",
       "      <td>NaN</td>\n",
       "    </tr>\n",
       "    <tr>\n",
       "      <th>2</th>\n",
       "      <td>2</td>\n",
       "      <td>2018-02-09 22:49:13.500</td>\n",
       "      <td>http://www.01net.com/telecharger/windows/Multi...</td>\n",
       "      <td>0</td>\n",
       "      <td>2</td>\n",
       "      <td>http</td>\n",
       "      <td>www.01net.com</td>\n",
       "      <td>/telecharger/windows/Multimedia/lecteurs_video...</td>\n",
       "      <td>NaN</td>\n",
       "      <td>NaN</td>\n",
       "      <td>NaN</td>\n",
       "    </tr>\n",
       "    <tr>\n",
       "      <th>3</th>\n",
       "      <td>3</td>\n",
       "      <td>2018-02-11 14:15:36.478</td>\n",
       "      <td>http://www.01net.com/telecharger/</td>\n",
       "      <td>0</td>\n",
       "      <td>3</td>\n",
       "      <td>http</td>\n",
       "      <td>www.01net.com</td>\n",
       "      <td>/telecharger/</td>\n",
       "      <td>NaN</td>\n",
       "      <td>NaN</td>\n",
       "      <td>NaN</td>\n",
       "    </tr>\n",
       "    <tr>\n",
       "      <th>4</th>\n",
       "      <td>4</td>\n",
       "      <td>2018-02-26 09:41:26.059</td>\n",
       "      <td>http://www.01net.com/tests/huawei-p8-lite-2017...</td>\n",
       "      <td>0</td>\n",
       "      <td>4</td>\n",
       "      <td>http</td>\n",
       "      <td>www.01net.com</td>\n",
       "      <td>/tests/huawei-p8-lite-2017-fiche-technique-365...</td>\n",
       "      <td>NaN</td>\n",
       "      <td>NaN</td>\n",
       "      <td>NaN</td>\n",
       "    </tr>\n",
       "  </tbody>\n",
       "</table>\n",
       "</div>"
      ],
      "text/plain": [
       "   COOKIE_ID               LOCAL_TIME  \\\n",
       "0          0  2018-02-28 16:24:05.570   \n",
       "1          1  2018-02-17 18:17:16.310   \n",
       "2          2  2018-02-09 22:49:13.500   \n",
       "3          3  2018-02-11 14:15:36.478   \n",
       "4          4  2018-02-26 09:41:26.059   \n",
       "\n",
       "                                           PAGE_NAME  H2549  id scheme  \\\n",
       "0  http://www.01net.com/actualites/pourquoi-la-no...      1   0   http   \n",
       "1                        http://www.01net.com/search      0   1   http   \n",
       "2  http://www.01net.com/telecharger/windows/Multi...      0   2   http   \n",
       "3                  http://www.01net.com/telecharger/      0   3   http   \n",
       "4  http://www.01net.com/tests/huawei-p8-lite-2017...      0   4   http   \n",
       "\n",
       "          netloc                                               path params  \\\n",
       "0  www.01net.com  /actualites/pourquoi-la-nouvelle-interface-de-...    NaN   \n",
       "1  www.01net.com                                            /search    NaN   \n",
       "2  www.01net.com  /telecharger/windows/Multimedia/lecteurs_video...    NaN   \n",
       "3  www.01net.com                                      /telecharger/    NaN   \n",
       "4  www.01net.com  /tests/huawei-p8-lite-2017-fiche-technique-365...    NaN   \n",
       "\n",
       "  query  fragment  \n",
       "0   NaN       NaN  \n",
       "1   NaN       NaN  \n",
       "2   NaN       NaN  \n",
       "3   NaN       NaN  \n",
       "4   NaN       NaN  "
      ]
     },
     "execution_count": 7,
     "metadata": {},
     "output_type": "execute_result"
    }
   ],
   "source": [
    "cookies.head()"
   ]
  },
  {
   "cell_type": "code",
   "execution_count": 86,
   "metadata": {},
   "outputs": [],
   "source": [
    "import math\n",
    "def to_bag_of_word(path):\n",
    "    ret = ['no_path']\n",
    "    if path != \"\" and path == path:\n",
    "        ret = re.split('-|_|/',path)\n",
    "        \n",
    "    \n",
    "    ret = list(filter(None, ret))\n",
    "    \n",
    "    \n",
    "    return(ret)"
   ]
  },
  {
   "cell_type": "code",
   "execution_count": 89,
   "metadata": {},
   "outputs": [],
   "source": [
    "cookies['path_explode'] = cookies.apply(lambda row : to_bag_of_word(row['path']), axis = 1)"
   ]
  },
  {
   "cell_type": "code",
   "execution_count": null,
   "metadata": {},
   "outputs": [],
   "source": [
    "cookie.to_csv('url_decompose.csv',index=False)"
   ]
  }
 ],
 "metadata": {
  "kernelspec": {
   "display_name": "Python 3",
   "language": "python",
   "name": "python3"
  },
  "language_info": {
   "codemirror_mode": {
    "name": "ipython",
    "version": 3
   },
   "file_extension": ".py",
   "mimetype": "text/x-python",
   "name": "python",
   "nbconvert_exporter": "python",
   "pygments_lexer": "ipython3",
   "version": "3.7.1"
  }
 },
 "nbformat": 4,
 "nbformat_minor": 2
}
